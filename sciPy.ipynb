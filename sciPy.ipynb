{
  "nbformat": 4,
  "nbformat_minor": 0,
  "metadata": {
    "colab": {
      "name": "sciPy",
      "version": "0.3.2",
      "provenance": [],
      "collapsed_sections": []
    },
    "kernelspec": {
      "name": "python3",
      "display_name": "Python 3"
    }
  },
  "cells": [
    {
      "cell_type": "code",
      "metadata": {
        "id": "qLOkbf0wWLrp",
        "colab_type": "code",
        "colab": {
          "base_uri": "https://localhost:8080/",
          "height": 68
        },
        "outputId": "cac633ae-f1c0-4b0e-f484-b3d7a471f913"
      },
      "source": [
        "import numpy as np\n",
        "\n",
        "a=[2,6,5,3,4,7,9,3,2]\n",
        "x=np.reshape(a,(3,3))\n",
        "\n",
        "np.linalg.inv(x)"
      ],
      "execution_count": 6,
      "outputs": [
        {
          "output_type": "execute_result",
          "data": {
            "text/plain": [
              "array([[-0.0718232 ,  0.01657459,  0.12154696],\n",
              "       [ 0.31491713, -0.22651934,  0.00552486],\n",
              "       [-0.14917127,  0.26519337, -0.05524862]])"
            ]
          },
          "metadata": {
            "tags": []
          },
          "execution_count": 6
        }
      ]
    },
    {
      "cell_type": "code",
      "metadata": {
        "id": "1kibMvfLXNZ6",
        "colab_type": "code",
        "colab": {
          "base_uri": "https://localhost:8080/",
          "height": 102
        },
        "outputId": "0b98eb74-9f08-4a5b-c14c-248af0ab5101"
      },
      "source": [
        "import numpy as np\n",
        "\n",
        "a=[5,4,6,3]\n",
        "x=np.reshape(a,(2,2))\n",
        "print (x)\n",
        "print(np.linalg.eig(x))\n",
        "print (np.linalg.eigvals(x))"
      ],
      "execution_count": 13,
      "outputs": [
        {
          "output_type": "stream",
          "text": [
            "[[5 4]\n",
            " [6 3]]\n",
            "(array([ 9., -1.]), array([[ 0.70710678, -0.5547002 ],\n",
            "       [ 0.70710678,  0.83205029]]))\n",
            "[ 9. -1.]\n"
          ],
          "name": "stdout"
        }
      ]
    },
    {
      "cell_type": "code",
      "metadata": {
        "id": "ClV78kuYW6Th",
        "colab_type": "code",
        "colab": {
          "base_uri": "https://localhost:8080/",
          "height": 51
        },
        "outputId": "2e2a8ff1-f2a6-4c12-c7d3-a15d611bb40e"
      },
      "source": [
        "from scipy.sparse import coo_matrix, hstack\n",
        "A = coo_matrix([[1, 2], [3, 4]])\n",
        "B = coo_matrix([[5], [6]])\n",
        "hstack([A,B]).toarray()\n"
      ],
      "execution_count": 14,
      "outputs": [
        {
          "output_type": "execute_result",
          "data": {
            "text/plain": [
              "array([[1, 2, 5],\n",
              "       [3, 4, 6]], dtype=int64)"
            ]
          },
          "metadata": {
            "tags": []
          },
          "execution_count": 14
        }
      ]
    },
    {
      "cell_type": "code",
      "metadata": {
        "id": "kMKk3Lm3aptI",
        "colab_type": "code",
        "colab": {
          "base_uri": "https://localhost:8080/",
          "height": 51
        },
        "outputId": "001b2d8f-fbe5-4a46-d8ae-76cb66b8cea7"
      },
      "source": [
        "from scipy.sparse import coo_matrix, hstack\n",
        "A = coo_matrix([[1, 2], [3, 4]])\n",
        "B = coo_matrix([[5], [6]])\n",
        "hstack([A,B]).toarray()"
      ],
      "execution_count": 15,
      "outputs": [
        {
          "output_type": "execute_result",
          "data": {
            "text/plain": [
              "array([[1, 2, 5],\n",
              "       [3, 4, 6]], dtype=int64)"
            ]
          },
          "metadata": {
            "tags": []
          },
          "execution_count": 15
        }
      ]
    },
    {
      "cell_type": "code",
      "metadata": {
        "id": "V1RnWNQcayQG",
        "colab_type": "code",
        "colab": {}
      },
      "source": [
        ""
      ],
      "execution_count": 0,
      "outputs": []
    }
  ]
}